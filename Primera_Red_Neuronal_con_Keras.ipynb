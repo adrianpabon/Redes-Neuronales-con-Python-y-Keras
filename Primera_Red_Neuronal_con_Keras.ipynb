{
  "cells": [
    {
      "cell_type": "markdown",
      "metadata": {
        "colab_type": "text",
        "id": "view-in-github"
      },
      "source": [
        "<a href=\"https://colab.research.google.com/github/adrianpabon/Redes-Neuronales-con-Python-y-Keras/blob/main/Primera_Red_Neuronal_con_Keras.ipynb\" target=\"_parent\"><img src=\"https://colab.research.google.com/assets/colab-badge.svg\" alt=\"Open In Colab\"/></a>"
      ]
    },
    {
      "cell_type": "code",
      "execution_count": 2,
      "metadata": {
        "id": "J2gMh0bwR8fd"
      },
      "outputs": [],
      "source": [
        "import numpy as np\n",
        "from keras import layers, models\n",
        "from keras.utils import to_categorical\n",
        "from keras.datasets import mnist\n",
        "import matplotlib.pyplot as plt\n"
      ]
    },
    {
      "cell_type": "code",
      "execution_count": 1,
      "metadata": {
        "id": "GliFqLbnTLjX"
      },
      "outputs": [
        {
          "ename": "NameError",
          "evalue": "name 'mnist' is not defined",
          "output_type": "error",
          "traceback": [
            "\u001b[0;31m---------------------------------------------------------------------------\u001b[0m",
            "\u001b[0;31mNameError\u001b[0m                                 Traceback (most recent call last)",
            "\u001b[1;32m/Users/adrianpabonmendoza/Documents/GitHub/Redes-Neuronales-con-Python-y-Keras/Primera_Red_Neuronal_con_Keras.ipynb Cell 3\u001b[0m line \u001b[0;36m1\n\u001b[0;32m----> <a href='vscode-notebook-cell:/Users/adrianpabonmendoza/Documents/GitHub/Redes-Neuronales-con-Python-y-Keras/Primera_Red_Neuronal_con_Keras.ipynb#W2sZmlsZQ%3D%3D?line=0'>1</a>\u001b[0m (train_data, train_labels), (test_data, test_labels) \u001b[39m=\u001b[39m mnist\u001b[39m.\u001b[39mload_data()\n",
            "\u001b[0;31mNameError\u001b[0m: name 'mnist' is not defined"
          ]
        }
      ],
      "source": [
        "(train_data, train_labels), (test_data, test_labels) = mnist.load_data()"
      ]
    }
  ],
  "metadata": {
    "accelerator": "GPU",
    "colab": {
      "authorship_tag": "ABX9TyORicIsSShFt4Zp6KoUfUFs",
      "gpuType": "T4",
      "include_colab_link": true,
      "provenance": []
    },
    "kernelspec": {
      "display_name": "Python 3",
      "name": "python3"
    },
    "language_info": {
      "codemirror_mode": {
        "name": "ipython",
        "version": 3
      },
      "file_extension": ".py",
      "mimetype": "text/x-python",
      "name": "python",
      "nbconvert_exporter": "python",
      "pygments_lexer": "ipython3",
      "version": "3.9.6"
    }
  },
  "nbformat": 4,
  "nbformat_minor": 0
}
